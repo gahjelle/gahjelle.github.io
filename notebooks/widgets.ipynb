{
 "cells": [
  {
   "cell_type": "markdown",
   "metadata": {},
   "source": [
    "# Widgets for interaktiv utforsking\n",
    "\n",
    "Vi skal her se hvordan vi kan bruke spesielle _Notebook-widgets_ for å utforske funksjoner.\n",
    "\n",
    "La oss først lage et raskt eksempel, for å få et bedre bilde av hva en slik widget er. Kjør disse tre cellene:"
   ]
  },
  {
   "cell_type": "code",
   "execution_count": null,
   "metadata": {
    "collapsed": true
   },
   "outputs": [],
   "source": [
    "# Last inn interact fra ipywidgets-biblioteket\n",
    "from ipywidgets import interact"
   ]
  },
  {
   "cell_type": "code",
   "execution_count": null,
   "metadata": {
    "collapsed": true
   },
   "outputs": [],
   "source": [
    "# Definer en enkel funksjon\n",
    "def f(x):\n",
    "    return x"
   ]
  },
  {
   "cell_type": "code",
   "execution_count": null,
   "metadata": {},
   "outputs": [],
   "source": [
    "# Start en widget for å utforske funksjonen\n",
    "interact(f, x=10);"
   ]
  },
  {
   "cell_type": "markdown",
   "metadata": {
    "collapsed": true
   },
   "source": [
    "Hvis du over bare får tallet 10 og **ikke** en slider du kan dra i så må man aktivere utvidelsen ved å åpne programmet **Anaconda Prompt** fra startmenyen (**Terminal** på Mac eller Linux), og skrive\n",
    "\n",
    "    jupyter nbextension enable --py widgetsnbextension\n",
    "    \n",
    "Du må muligens stenge Jupyter Notebook og åpne på nytt for å se effekten."
   ]
  },
  {
   "cell_type": "markdown",
   "metadata": {},
   "source": [
    "## Forskjellige typer variabler\n",
    "\n",
    "Ovenfor ble det automatisk laget en slider fordi `x` er et tall. Vi kan også gi `x` sannhetsverdier eller tekstverdier. Da vil interact gi oss en annen måte å interagere med funksjonen på.\n"
   ]
  },
  {
   "cell_type": "code",
   "execution_count": null,
   "metadata": {},
   "outputs": [],
   "source": [
    "# Widget for sannhetsverdier\n",
    "interact(f, x=True);"
   ]
  },
  {
   "cell_type": "code",
   "execution_count": null,
   "metadata": {},
   "outputs": [],
   "source": [
    "# Widget for tekststrenger\n",
    "interact(f, x=\"Hei alle sammen!\");"
   ]
  },
  {
   "cell_type": "markdown",
   "metadata": {},
   "source": [
    "## Litt mer avanserte funksjoner"
   ]
  },
  {
   "cell_type": "code",
   "execution_count": null,
   "metadata": {},
   "outputs": [],
   "source": [
    "def g(x):\n",
    "    return x**2\n",
    "\n",
    "interact(g, x=5);"
   ]
  },
  {
   "cell_type": "markdown",
   "metadata": {},
   "source": [
    "## Interaktive grafer"
   ]
  },
  {
   "cell_type": "code",
   "execution_count": null,
   "metadata": {},
   "outputs": [],
   "source": [
    "%matplotlib inline\n",
    "\n",
    "from ipywidgets import interactive\n",
    "import numpy as np\n",
    "import matplotlib.pyplot as plt\n",
    "\n",
    "def f(a, b, c):\n",
    "    x = np.arange(-10, 10, step=0.2)\n",
    "    y = a * x**2 + b * x + c\n",
    "    plt.plot(x, y)\n",
    "    \n",
    "    \n",
    "interactive(f, a=(-1, 1, 0.1), b=(-5, 5), c=(-5, 5))"
   ]
  },
  {
   "cell_type": "code",
   "execution_count": null,
   "metadata": {
    "collapsed": true
   },
   "outputs": [],
   "source": []
  }
 ],
 "metadata": {
  "kernelspec": {
   "display_name": "Python [default]",
   "language": "python",
   "name": "python3"
  },
  "language_info": {
   "codemirror_mode": {
    "name": "ipython",
    "version": 3
   },
   "file_extension": ".py",
   "mimetype": "text/x-python",
   "name": "python",
   "nbconvert_exporter": "python",
   "pygments_lexer": "ipython3",
   "version": "3.6.2"
  }
 },
 "nbformat": 4,
 "nbformat_minor": 2
}
