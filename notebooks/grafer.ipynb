{
 "cells": [
  {
   "cell_type": "markdown",
   "metadata": {},
   "source": [
    "# Funksjoner og grafer\n",
    "\n",
    "Vi skal her se hvordan vi kan bruke to biblioteker, `numpy` og `matplotlib` til å jobbe effektivt med funksjoner og grafer i Python. Først importerer vi bibliotekene. Siden disse har litt lange navn er det vanlig å gi dem kortere kallenavn som dette:"
   ]
  },
  {
   "cell_type": "code",
   "execution_count": null,
   "metadata": {
    "collapsed": true
   },
   "outputs": [],
   "source": [
    "import numpy as np\n",
    "import matplotlib.pyplot as plt"
   ]
  },
  {
   "cell_type": "markdown",
   "metadata": {},
   "source": [
    "Notebooks har egen støtte for å vise grafer direkte. Denne aktiveres med `%matplotlib inline` (Dette er en spesiell funksjon (legg merke til `%`-tegnet) som bare virker inne i en Notebook)."
   ]
  },
  {
   "cell_type": "code",
   "execution_count": null,
   "metadata": {},
   "outputs": [],
   "source": [
    "# inline gir statiske grafer\n",
    "# %matplotlib inline\n",
    "\n",
    "# notebook gir aktive grafer som kan utforskes\n",
    "%matplotlib notebook"
   ]
  },
  {
   "cell_type": "markdown",
   "metadata": {},
   "source": [
    "## Tabeller av tall\n",
    "\n",
    "`numpy` jobber med tabeller av tall i stedet for tall enkeltvis. Dette gjør at vi veldig effektivt kan se hvordan for eksempel matematiske funksjoner oppfører seg."
   ]
  },
  {
   "cell_type": "code",
   "execution_count": null,
   "metadata": {},
   "outputs": [],
   "source": [
    "x = np.arange(-5, 5, step=.5)\n",
    "x"
   ]
  },
  {
   "cell_type": "code",
   "execution_count": null,
   "metadata": {},
   "outputs": [],
   "source": [
    "y = x**2 - 2\n",
    "y"
   ]
  },
  {
   "cell_type": "markdown",
   "metadata": {},
   "source": [
    "## Tegne en graf\n",
    "\n",
    "`matplotlib` kan tegne grafer av talltabeller."
   ]
  },
  {
   "cell_type": "code",
   "execution_count": null,
   "metadata": {},
   "outputs": [],
   "source": [
    "plt.plot(x, y)"
   ]
  },
  {
   "cell_type": "code",
   "execution_count": null,
   "metadata": {
    "collapsed": true
   },
   "outputs": [],
   "source": []
  }
 ],
 "metadata": {
  "kernelspec": {
   "display_name": "Python [default]",
   "language": "python",
   "name": "python3"
  },
  "language_info": {
   "codemirror_mode": {
    "name": "ipython",
    "version": 3
   },
   "file_extension": ".py",
   "mimetype": "text/x-python",
   "name": "python",
   "nbconvert_exporter": "python",
   "pygments_lexer": "ipython3",
   "version": "3.6.2"
  }
 },
 "nbformat": 4,
 "nbformat_minor": 2
}
