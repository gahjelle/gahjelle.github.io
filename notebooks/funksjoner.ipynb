{
 "cells": [
  {
   "cell_type": "markdown",
   "metadata": {},
   "source": [
    "# Funksjoner i Python\n",
    "\n",
    "En funksjon er en liten bit kode som kan gjenbrukes. Det er **veldig** nyttig etterhvert som man programmerer mer og mer. Dere har allerede sett flere funksjoner som er definert allerede i Python, for eksempel `print` og `input`:"
   ]
  },
  {
   "cell_type": "code",
   "execution_count": null,
   "metadata": {},
   "outputs": [],
   "source": [
    "navn = input(\"Hva heter du? \")\n",
    "print(\"Hei \" + navn)"
   ]
  },
  {
   "cell_type": "markdown",
   "metadata": {},
   "source": [
    "Vi har også sett funksjoner som ligger i biblioteker. For eksempel, `randint` i `random`-biblioteket som trekker tilfeldige heltall:"
   ]
  },
  {
   "cell_type": "code",
   "execution_count": null,
   "metadata": {},
   "outputs": [],
   "source": [
    "import random\n",
    "\n",
    "kast = random.randint(1, 6)\n",
    "print(\"Terningkastet ga \" + str(kast))"
   ]
  },
  {
   "cell_type": "markdown",
   "metadata": {},
   "source": [
    "## Definer egne funksjoner\n",
    "\n",
    "Vi skal nå se hvordan vi lager egne funksjoner. Dette gjør vi med nøkkelordet `def`. For eksempel kan vi lage en funksjon som sier **Hei** til oss."
   ]
  },
  {
   "cell_type": "code",
   "execution_count": null,
   "metadata": {
    "collapsed": true
   },
   "outputs": [],
   "source": [
    "def hei(navn):\n",
    "    print(\"Heisann \" + navn)"
   ]
  },
  {
   "cell_type": "markdown",
   "metadata": {},
   "source": [
    "En slik funksjon kan vi bruke på akkurat samme måte som funksjonene som er ferdig definert i Python:"
   ]
  },
  {
   "cell_type": "code",
   "execution_count": null,
   "metadata": {},
   "outputs": [],
   "source": [
    "hei(\"Geir Arne\")\n",
    "hei(\"Ole Gunnar\")\n",
    "hei(\"alle sammen\")"
   ]
  },
  {
   "cell_type": "markdown",
   "metadata": {},
   "source": [
    "Vi kan også lage en funksjon som kaster terning for oss:"
   ]
  },
  {
   "cell_type": "code",
   "execution_count": null,
   "metadata": {
    "collapsed": true
   },
   "outputs": [],
   "source": [
    "def kast_terning():\n",
    "    kast = random.randint(1, 6)\n",
    "    print(\"Kastet \" + str(kast))\n",
    "    return kast"
   ]
  },
  {
   "cell_type": "markdown",
   "metadata": {},
   "source": [
    "Her har vi også brukt `return`. Dette forteller at vi ønsker at en verdi skal returneres fra funksjonen vår. Denne verdien kan så tilordnes variabler og brukes videre. For eksempel kan vi simulere summen av to terningkast på denne måten:"
   ]
  },
  {
   "cell_type": "code",
   "execution_count": null,
   "metadata": {},
   "outputs": [],
   "source": [
    "sum = kast_terning() + kast_terning()\n",
    "print(\"Summen ble \" + str(sum))"
   ]
  },
  {
   "cell_type": "markdown",
   "metadata": {},
   "source": [
    "## Oppgave\n",
    "\n",
    "Vi ønsker nå å lage egne funksjoner:\n",
    "\n",
    "+ En funksjon, `areal`, som tar inn `radius` og regner ut arealet av en sirkel med radius `radius`. Husk at $A = \\pi r^2$.\n",
    "+ En funksjon, `omkrets`, som tar inn `radius` og regner ut omkretsen av en sirkel med radius `radius`. Husk at $O = 2 \\pi r$."
   ]
  },
  {
   "cell_type": "code",
   "execution_count": null,
   "metadata": {
    "collapsed": true
   },
   "outputs": [],
   "source": [
    "def areal(radius):\n",
    "    ...   # Skriv egen kode\n",
    "    \n",
    "    \n",
    "def omkrets(radius):\n",
    "    ...   # Skriv egen kode\n",
    "    "
   ]
  },
  {
   "cell_type": "markdown",
   "metadata": {},
   "source": [
    "Vi kan nå teste om koden fungerer. Sjekk for eksempel at arealet av en sirkel med radius 5 er omtrent 78.5, mens omkretsen av en sirkel med radius 12 er omtrent 75.4."
   ]
  },
  {
   "cell_type": "code",
   "execution_count": null,
   "metadata": {
    "collapsed": true
   },
   "outputs": [],
   "source": [
    "# Skriv egne tester"
   ]
  }
 ],
 "metadata": {
  "kernelspec": {
   "display_name": "Python [default]",
   "language": "python",
   "name": "python3"
  },
  "language_info": {
   "codemirror_mode": {
    "name": "ipython",
    "version": 3
   },
   "file_extension": ".py",
   "mimetype": "text/x-python",
   "name": "python",
   "nbconvert_exporter": "python",
   "pygments_lexer": "ipython3",
   "version": "3.6.2"
  }
 },
 "nbformat": 4,
 "nbformat_minor": 2
}
